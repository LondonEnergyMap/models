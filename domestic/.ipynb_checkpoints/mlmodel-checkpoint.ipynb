{
 "cells": [
  {
   "cell_type": "code",
   "execution_count": 18,
   "metadata": {},
   "outputs": [
    {
     "data": {
      "text/html": [
       "<div>\n",
       "<style scoped>\n",
       "    .dataframe tbody tr th:only-of-type {\n",
       "        vertical-align: middle;\n",
       "    }\n",
       "\n",
       "    .dataframe tbody tr th {\n",
       "        vertical-align: top;\n",
       "    }\n",
       "\n",
       "    .dataframe thead th {\n",
       "        text-align: right;\n",
       "    }\n",
       "</style>\n",
       "<table border=\"1\" class=\"dataframe\">\n",
       "  <thead>\n",
       "    <tr style=\"text-align: right;\">\n",
       "      <th></th>\n",
       "      <th>hid</th>\n",
       "      <th>imd</th>\n",
       "      <th>type</th>\n",
       "      <th>form</th>\n",
       "      <th>exposedsides</th>\n",
       "      <th>tfa</th>\n",
       "      <th>epc</th>\n",
       "      <th>age</th>\n",
       "      <th>nroom</th>\n",
       "      <th>maingas</th>\n",
       "      <th>gcons</th>\n",
       "      <th>econs</th>\n",
       "      <th>gmeters</th>\n",
       "      <th>emeters</th>\n",
       "    </tr>\n",
       "  </thead>\n",
       "  <tbody>\n",
       "    <tr>\n",
       "      <th>0</th>\n",
       "      <td>3221499468</td>\n",
       "      <td>6.0</td>\n",
       "      <td>flat</td>\n",
       "      <td>detached</td>\n",
       "      <td>4.0</td>\n",
       "      <td>48.30</td>\n",
       "      <td>2</td>\n",
       "      <td>1.0</td>\n",
       "      <td>1</td>\n",
       "      <td>1</td>\n",
       "      <td>5636.993076</td>\n",
       "      <td>2874.8</td>\n",
       "      <td>7.0</td>\n",
       "      <td>7.0</td>\n",
       "    </tr>\n",
       "    <tr>\n",
       "      <th>1</th>\n",
       "      <td>2290543668</td>\n",
       "      <td>6.0</td>\n",
       "      <td>flat</td>\n",
       "      <td>mid-terrace</td>\n",
       "      <td>2.0</td>\n",
       "      <td>70.85</td>\n",
       "      <td>2</td>\n",
       "      <td>3.0</td>\n",
       "      <td>3</td>\n",
       "      <td>1</td>\n",
       "      <td>5636.993076</td>\n",
       "      <td>2874.8</td>\n",
       "      <td>7.0</td>\n",
       "      <td>7.0</td>\n",
       "    </tr>\n",
       "    <tr>\n",
       "      <th>2</th>\n",
       "      <td>6015699968</td>\n",
       "      <td>6.0</td>\n",
       "      <td>flat</td>\n",
       "      <td>mid-terrace</td>\n",
       "      <td>2.0</td>\n",
       "      <td>66.00</td>\n",
       "      <td>2</td>\n",
       "      <td>1.0</td>\n",
       "      <td>3</td>\n",
       "      <td>1</td>\n",
       "      <td>5636.993076</td>\n",
       "      <td>2874.8</td>\n",
       "      <td>7.0</td>\n",
       "      <td>7.0</td>\n",
       "    </tr>\n",
       "    <tr>\n",
       "      <th>3</th>\n",
       "      <td>9939448868</td>\n",
       "      <td>6.0</td>\n",
       "      <td>flat</td>\n",
       "      <td>mid-terrace</td>\n",
       "      <td>2.0</td>\n",
       "      <td>66.00</td>\n",
       "      <td>2</td>\n",
       "      <td>1.0</td>\n",
       "      <td>3</td>\n",
       "      <td>1</td>\n",
       "      <td>5636.993076</td>\n",
       "      <td>2874.8</td>\n",
       "      <td>7.0</td>\n",
       "      <td>7.0</td>\n",
       "    </tr>\n",
       "    <tr>\n",
       "      <th>4</th>\n",
       "      <td>1536490868</td>\n",
       "      <td>6.0</td>\n",
       "      <td>flat</td>\n",
       "      <td>enclosed mid-terrace</td>\n",
       "      <td>1.5</td>\n",
       "      <td>111.00</td>\n",
       "      <td>2</td>\n",
       "      <td>1.0</td>\n",
       "      <td>4</td>\n",
       "      <td>1</td>\n",
       "      <td>5636.993076</td>\n",
       "      <td>2874.8</td>\n",
       "      <td>7.0</td>\n",
       "      <td>7.0</td>\n",
       "    </tr>\n",
       "  </tbody>\n",
       "</table>\n",
       "</div>"
      ],
      "text/plain": [
       "          hid  imd  type                  form  exposedsides     tfa  epc  \\\n",
       "0  3221499468  6.0  flat              detached           4.0   48.30    2   \n",
       "1  2290543668  6.0  flat           mid-terrace           2.0   70.85    2   \n",
       "2  6015699968  6.0  flat           mid-terrace           2.0   66.00    2   \n",
       "3  9939448868  6.0  flat           mid-terrace           2.0   66.00    2   \n",
       "4  1536490868  6.0  flat  enclosed mid-terrace           1.5  111.00    2   \n",
       "\n",
       "   age  nroom  maingas        gcons   econs  gmeters  emeters  \n",
       "0  1.0      1        1  5636.993076  2874.8      7.0      7.0  \n",
       "1  3.0      3        1  5636.993076  2874.8      7.0      7.0  \n",
       "2  1.0      3        1  5636.993076  2874.8      7.0      7.0  \n",
       "3  1.0      3        1  5636.993076  2874.8      7.0      7.0  \n",
       "4  1.0      4        1  5636.993076  2874.8      7.0      7.0  "
      ]
     },
     "execution_count": 18,
     "metadata": {},
     "output_type": "execute_result"
    }
   ],
   "source": [
    "import pandas as pd\n",
    "\n",
    "filepath = 'https://media.githubusercontent.com/media/LondonEnergyMap/model_data/master/domestic/combined_needepc.csv'\n",
    "df_all = pd.read_csv(filepath)\n",
    "df_all.head()"
   ]
  },
  {
   "cell_type": "code",
   "execution_count": 19,
   "metadata": {},
   "outputs": [
    {
     "data": {
      "text/plain": [
       "(54963, 14)"
      ]
     },
     "execution_count": 19,
     "metadata": {},
     "output_type": "execute_result"
    }
   ],
   "source": [
    "df_all.shape"
   ]
  },
  {
   "cell_type": "code",
   "execution_count": 20,
   "metadata": {},
   "outputs": [
    {
     "data": {
      "text/plain": [
       "(16394, 14)"
      ]
     },
     "execution_count": 20,
     "metadata": {},
     "output_type": "execute_result"
    }
   ],
   "source": [
    "df = df_all[(df_all.gmeters<=7) & (df_all.emeters<=7)]\n",
    "df.shape"
   ]
  },
  {
   "cell_type": "code",
   "execution_count": 21,
   "metadata": {},
   "outputs": [
    {
     "data": {
      "text/plain": [
       "array([ 1,  3,  4,  2,  5,  6,  8,  7,  9, 10])"
      ]
     },
     "execution_count": 21,
     "metadata": {},
     "output_type": "execute_result"
    }
   ],
   "source": [
    "from sklearn.model_selection import train_test_split\n",
    "from sklearn.linear_model import LinearRegression\n",
    "\n",
    "# temp = df_all[(df_all.gmeters<=7) & (df_all.emeters<=7)]\n",
    "\n",
    "temp = df_all[(df_all.gmeters > 1) & (df_all.emeters > 1)]\n",
    "\n",
    "# temp = temp[temp.nroom > 5]\n",
    "# temp = df_all\n",
    "temp.head()\n",
    "temp.nroom.unique()"
   ]
  },
  {
   "cell_type": "code",
   "execution_count": 26,
   "metadata": {},
   "outputs": [
    {
     "data": {
      "text/plain": [
       "0.5296863254254113"
      ]
     },
     "execution_count": 26,
     "metadata": {},
     "output_type": "execute_result"
    }
   ],
   "source": [
    "# x = temp[['imd', 'tfa', 'epc', 'age', 'nroom', 'exposedsides', 'maingas']]\n",
    "x = temp[['tfa', 'epc', 'age', 'nroom', 'exposedsides', 'maingas']] #'imd'\n",
    "y = temp[['gcons', 'econs']]\n",
    "\n",
    "x_train, x_test, y_train, y_test = train_test_split(x, y, train_size=0.8, test_size=0.2, random_state=42)\n",
    "\n",
    "lrmodel = LinearRegression()\n",
    "lrmodel.fit(x_train, y_train)\n",
    "predictions = lrmodel.predict(x_test)\n",
    "scores = lrmodel.score(x_train, y_train)\n",
    "scores"
   ]
  },
  {
   "cell_type": "code",
   "execution_count": 28,
   "metadata": {},
   "outputs": [
    {
     "data": {
      "text/plain": [
       "3936.3436341212346"
      ]
     },
     "execution_count": 28,
     "metadata": {},
     "output_type": "execute_result"
    }
   ],
   "source": [
    "# get precision / RMSE\n",
    "from sklearn.metrics import mean_squared_error\n",
    "from math import sqrt\n",
    "\n",
    "rms = sqrt(mean_squared_error(y_test, predictions))\n",
    "rms"
   ]
  },
  {
   "cell_type": "code",
   "execution_count": 24,
   "metadata": {},
   "outputs": [],
   "source": [
    "gcons_predict, econs_predict = map(list, zip(*predictions))"
   ]
  },
  {
   "cell_type": "code",
   "execution_count": 25,
   "metadata": {},
   "outputs": [
    {
     "name": "stderr",
     "output_type": "stream",
     "text": [
      "/Users/dora/miniconda3/lib/python3.6/site-packages/ipykernel_launcher.py:1: SettingWithCopyWarning: \n",
      "A value is trying to be set on a copy of a slice from a DataFrame.\n",
      "Try using .loc[row_indexer,col_indexer] = value instead\n",
      "\n",
      "See the caveats in the documentation: http://pandas.pydata.org/pandas-docs/stable/indexing.html#indexing-view-versus-copy\n",
      "  \"\"\"Entry point for launching an IPython kernel.\n"
     ]
    }
   ],
   "source": [
    "y_test['gcons1'] = gcons_predict"
   ]
  },
  {
   "cell_type": "code",
   "execution_count": null,
   "metadata": {},
   "outputs": [],
   "source": []
  },
  {
   "cell_type": "code",
   "execution_count": null,
   "metadata": {},
   "outputs": [],
   "source": []
  }
 ],
 "metadata": {
  "kernelspec": {
   "display_name": "Python 3",
   "language": "python",
   "name": "python3"
  },
  "language_info": {
   "codemirror_mode": {
    "name": "ipython",
    "version": 3
   },
   "file_extension": ".py",
   "mimetype": "text/x-python",
   "name": "python",
   "nbconvert_exporter": "python",
   "pygments_lexer": "ipython3",
   "version": "3.6.8"
  }
 },
 "nbformat": 4,
 "nbformat_minor": 2
}
